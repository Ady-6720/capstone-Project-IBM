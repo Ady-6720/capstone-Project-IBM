{
 "cells": [
  {
   "cell_type": "markdown",
   "metadata": {},
   "source": [
    "<H1>FINAL REPORT CAPSTONE PROJECT<h1>"
   ]
  },
  {
   "cell_type": "markdown",
   "metadata": {},
   "source": [
    "<h2><B>1. Introduction:</B></h2>\n",
    "<p>Having good neighbours is important because it makes our life in a neighbourhood safer, happier and more fun. We also tend to have more peace of mind. Although we can choose our friends but not our neighbours, we must remember that we get what we give.\n",
    "\n",
    "This Capstone Project is to help people in exploring better facilities around their neighborhood. It will help people making decision on selecting their neighborhood out of numbers of other neighborhoods in Scarborough, Toronto.\n",
    "\n",
    "Lots of people are migrating to various states of Canada and needed lots of research for good housing prices and reupdated schools for their children. This project is for those people who are looking for better neighborhoods. For ease of accessing to Café, School, Super market, medical shops, grocery shops, mall, theatre, hospital, like minded people, etc.\n",
    "\n",
    "This Capstone Project aim to create an analysis of features for a people migrating to Scarborough to search a best neighborhood as a comparative analysis between neighborhoods. The features include median housing price and better school according to ratings, crime rates of that particular area, road connectivity, weather conditions, good management for emergency, water resources both fresh and waste water and excrement conveyed in sewers and recreational facilities.\n",
    "\n",
    "It will help people to get awareness of the area and neighborhood before moving to a new city, state, country or place for their work or to start a new fresh life.</p>\n",
    "\n",
    "    \n",
    "\n",
    "\n",
    "<h2><B>2. Data Section</B></h2>\n",
    "<p>Data collection is not easy. It takes time and a lot of effort. Sadly, Kaggle data sets are not always sufficient. Therefore, one must create their own data sets.\n",
    "\n",
    "We will need data about different venues in different neighborhoods of that specific borough.\n",
    "\n",
    "In order to gain that information we will use “Foursquare” locational information. Foursquare is a location data provider with information about all manner of venues and events within an area of interest. Such information includes venue names, locations, menus and even photos. As such, the foursquare location platform will be used as the sole data source since all the stated required information can be obtained through the API.\n",
    "\n",
    "After finding the list of neighborhoods, we then connect to the Foursquare API to gather information about venues inside each and every neighborhood. For each neighborhood, we have chosen the radius to be 100 meter.</p>\n",
    "\n",
    "        \n",
    "\n",
    "\n",
    "<h2><B>3. Methodology Process</B></h2>\n",
    "\n",
    "<h2><B>Clustering Approach:</B></h2>\n",
    "<p>Clustering is a Machine Learning technique that involves the grouping of data points. Given a set of data points, we can use a clustering algorithm to classify each data point into a specific group. In theory, data points that are in the same group should have similar properties and/or features, while data points in different groups should have highly dissimilar properties and/or features. Clustering is a method of unsupervised learning and is a common technique for statistical data analysis used in many fields.\n",
    "To compare the similarities of two cities, we decided to explore neighborhoods, segment them, and group them into clusters to find similar neighborhoods in a big city like New York and Toronto. To be able to do that, we need to cluster data which is a form of unsupervised machine learning: k-means clustering algorithm.<p>\n",
    "\n",
    "<p>Work Flow:\n",
    "Using credentials of Foursquare API features of near-by places of the neighborhoods would be mined. Due to http request limitations the number of places per neighborhood parameter would reasonably be set to 100 and the radius parameter would be set to 500.</p>\n",
    "\n",
    "        \n",
    "\n",
    "<h2><B>4. Results Section</B></h2>\n",
    "\n",
    "\n",
    "\n",
    "<h2><B>The Location:</B></h2>\n",
    "<p>Scarborough is a popular destination for new immigrants in Canada to reside. As a result, it is one of the most diverse and multicultural areas in the Greater Toronto Area, being home to various religious groups and places of worship. Although immigration has become a hot topic over the past few years with more governments seeking more restrictions on immigrants and refugees, the general trend of immigration into Canada has been one of on the rise.</p>\n",
    "\n",
    "<h2><B> Foursquare API:</B></h2>\n",
    "</p>This project have used Four-square API as its prime data gathering source as it has a database of millions of places, especially their places API which provides the ability to perform location search, location sharing and details about a business.</p>\n",
    "\n",
    "        \n",
    "\n",
    "\n",
    "<h2><B>5. Discussion Section</B></h2>\n",
    "\n",
    "<h2><B>Problem Which Tried to Solve:</h2></B>\n",
    "<p>The major purpose of this project, is to suggest a better neighborhood in a new city for the person who are shiffting there. Social presence in society in terms of like minded people. Connectivity to the airport, bus stand, city center, markets and other daily needs things nearby.<p>\n",
    "\n",
    "1. Sorted list of house in terms of housing prices in a ascending or descending order\n",
    "2. Sorted list of schools in terms of location, fees, rating and reviews</p>\n",
    "\n",
    "\n",
    "\n",
    "<h2><B>6. Conclusion Section</B></h2>\n",
    "\n",
    "<p>In this project, using k-means cluster algorithm I separated the neighborhood into 10(Ten) different clusters and for 103 different lattitude and logitude from dataset, which have very-similar neighborhoods around them. Using the charts above results presented to a particular neighborhood based on average house prices and school rating have been made.\n",
    "\n",
    "I feel rewarded with the efforts and believe this course with all the topics covered is well worthy of appreciation.\n",
    "This project has shown me a practical application to resolve a real situation that has impacting personal and financial impact using Data Science tools.\n",
    "The mapping with Folium is a very powerful technique to consolidate information and make the analysis and decision better with confidence.</p>\n",
    "\n"
   ]
  },
  {
   "cell_type": "code",
   "execution_count": null,
   "metadata": {},
   "outputs": [],
   "source": []
  }
 ],
 "metadata": {
  "kernelspec": {
   "display_name": "Python 3",
   "language": "python",
   "name": "python3"
  },
  "language_info": {
   "codemirror_mode": {
    "name": "ipython",
    "version": 3
   },
   "file_extension": ".py",
   "mimetype": "text/x-python",
   "name": "python",
   "nbconvert_exporter": "python",
   "pygments_lexer": "ipython3",
   "version": "3.9.5"
  }
 },
 "nbformat": 4,
 "nbformat_minor": 4
}
